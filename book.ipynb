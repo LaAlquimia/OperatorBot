{
 "cells": [
  {
   "cell_type": "code",
   "execution_count": null,
   "metadata": {},
   "outputs": [],
   "source": [
    "\n",
    "\n",
    "import os, sys\n",
    "from time import sleep\n",
    "from api_keys import api_secret, api_key\n",
    "from pybit.unified_trading import WebSocket, HTTP\n",
    "\n",
    "\n",
    "ws = WebSocket(\n",
    "    api_key = api_key,\n",
    "    api_secret = api_secret,\n",
    "    testnet=False,\n",
    "    channel_type=\"private\",\n",
    "    \n",
    ")\n",
    "\n",
    "public_ws = WebSocket(\n",
    "    testnet=False,\n",
    "    channel_type=\"linear\",\n",
    "    \n",
    ")\n",
    "\n",
    "coin = \"TRBUSDT\"\n",
    "\n",
    "pdist = {\n",
    "}\n"
   ]
  },
  {
   "cell_type": "code",
   "execution_count": null,
   "metadata": {},
   "outputs": [],
   "source": [
    "\n",
    "\n",
    "def handle_trade(message):    \n",
    "    global pdist\n",
    "    info = message[\"data\"]\n",
    "    long = info[1]\n",
    "    short = info[0]\n",
    "    pdist[long['symbol']]= {\n",
    "        'long': {            \n",
    "            'entryPrice': long['entryPrice'],\n",
    "            'size': long['size']\n",
    "        },\n",
    "        'short': {            \n",
    "            'entryPrice': short['entryPrice'],\n",
    "            'size': short['size']\n",
    "        }\n",
    "    }\n",
    "\n",
    "\n",
    "def handle_info(message):\n",
    "    global pdist     \n",
    "    os.system(\"clear\")\n",
    "    info = message[\"data\"][0]\n",
    "    print('Side ','last_price ', 'Vol'  )\n",
    "    print(info[\"S\"], float(info[\"p\"]) , info[\"v\"])\n",
    "\n",
    "    \n",
    "    \n",
    "\n",
    "\n",
    "\n",
    "\n",
    "def handle_positions(message):\n",
    "    return(0)\n",
    "\n",
    "    "
   ]
  },
  {
   "cell_type": "code",
   "execution_count": null,
   "metadata": {},
   "outputs": [],
   "source": [
    "\n",
    "ws.position_stream(callback=handle_trade)\n",
    "\n",
    "while True:\n",
    "    sleep(0.1)"
   ]
  },
  {
   "cell_type": "code",
   "execution_count": 9,
   "metadata": {},
   "outputs": [
    {
     "name": "stdout",
     "output_type": "stream",
     "text": [
      "True\n"
     ]
    }
   ],
   "source": [
    "if pdist : \n",
    "    print(True)\n"
   ]
  },
  {
   "cell_type": "code",
   "execution_count": 8,
   "metadata": {},
   "outputs": [],
   "source": [
    "pdist = {'a':'b'}"
   ]
  },
  {
   "cell_type": "code",
   "execution_count": null,
   "metadata": {},
   "outputs": [],
   "source": [
    "\n",
    "public_ws.trade_stream(symbol= coin, callback=handle_info)"
   ]
  }
 ],
 "metadata": {
  "kernelspec": {
   "display_name": "op",
   "language": "python",
   "name": "python3"
  },
  "language_info": {
   "codemirror_mode": {
    "name": "ipython",
    "version": 3
   },
   "file_extension": ".py",
   "mimetype": "text/x-python",
   "name": "python",
   "nbconvert_exporter": "python",
   "pygments_lexer": "ipython3",
   "version": "3.10.12"
  },
  "orig_nbformat": 4
 },
 "nbformat": 4,
 "nbformat_minor": 2
}
